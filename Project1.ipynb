{
 "cells": [
  {
   "cell_type": "markdown",
   "id": "738973c1",
   "metadata": {},
   "source": [
    "#Project 1"
   ]
  },
  {
   "cell_type": "markdown",
   "id": "7107569a",
   "metadata": {},
   "source": [
    "First, I wrote the data provided, which is 2 airlines Alaska and AM West that shows the on time and arrival delays\n",
    "over 5 destinations which includes Los Angeles, Phoenix, San Diego, San Francisco, and Seattle into a csvfile."
   ]
  },
  {
   "cell_type": "markdown",
   "id": "4394bda7",
   "metadata": {},
   "source": [
    "Second, I imported the csvfile \"project 1 Data set.csv\" from excel into jupyter notebook. I used Pandas to read\n",
    "the data from the csvfile and \n",
    "return the dataframe object. \n",
    "First I will get the total number of flights for both airlines, then find the total flights delayed, and ultimately \n",
    "find the percentage for the delayed flights for both airlines."
   ]
  },
  {
   "cell_type": "code",
   "execution_count": 1,
   "id": "212932de",
   "metadata": {},
   "outputs": [],
   "source": [
    "# Import numpy and pandas\n",
    "import numpy as np\n",
    "import pandas as pd\n"
   ]
  },
  {
   "cell_type": "code",
   "execution_count": 2,
   "id": "92b82327",
   "metadata": {},
   "outputs": [],
   "source": [
    "# Read data form CSV file\n",
    "df = pd.read_csv(\"/Users/aliahsansumon/Documents/IS362/Project1/Project 1 Data set.csv\")"
   ]
  },
  {
   "cell_type": "code",
   "execution_count": 3,
   "id": "dfde4543",
   "metadata": {},
   "outputs": [
    {
     "data": {
      "text/plain": [
       "13.271523178807948"
      ]
     },
     "execution_count": 3,
     "metadata": {},
     "output_type": "execute_result"
    }
   ],
   "source": [
    "# Calculate the delayed flight percentage for Alaska\n",
    "df.alaska_delayed.sum()/(df.alaska_on_time.sum() + df.alaska_delayed.sum())*100"
   ]
  },
  {
   "cell_type": "code",
   "execution_count": 4,
   "id": "858d92f4",
   "metadata": {},
   "outputs": [
    {
     "data": {
      "text/plain": [
       "10.892733564013842"
      ]
     },
     "execution_count": 4,
     "metadata": {},
     "output_type": "execute_result"
    }
   ],
   "source": [
    "# Calculate the delayed flight percentage for AM West\n",
    "df.amwest_delayed.sum()/(df.amwest_on_time.sum() + df.amwest_delayed.sum())*100"
   ]
  },
  {
   "cell_type": "markdown",
   "id": "b0ed156f",
   "metadata": {},
   "source": [
    "Summary/Analysis\n",
    "The results we can see is that \n",
    "Alaska's Delayed Flights Percentage is = 13.3%\n",
    "AM West's Delayed Flights Percentage is = 10.9%\n",
    "From these 2 airline delayed percentage we can conclude that AM West airline has a lower delayed\n",
    "flight percentage, which makes this airline\n",
    "the better option to fly."
   ]
  }
 ],
 "metadata": {
  "kernelspec": {
   "display_name": "Python 3 (ipykernel)",
   "language": "python",
   "name": "python3"
  },
  "language_info": {
   "codemirror_mode": {
    "name": "ipython",
    "version": 3
   },
   "file_extension": ".py",
   "mimetype": "text/x-python",
   "name": "python",
   "nbconvert_exporter": "python",
   "pygments_lexer": "ipython3",
   "version": "3.9.13"
  }
 },
 "nbformat": 4,
 "nbformat_minor": 5
}
